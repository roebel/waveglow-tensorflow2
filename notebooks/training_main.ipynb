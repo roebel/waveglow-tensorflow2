{
 "cells": [
  {
   "cell_type": "markdown",
   "metadata": {},
   "source": [
    "# Train WaveGlow Model with custom training step"
   ]
  },
  {
   "cell_type": "markdown",
   "metadata": {},
   "source": [
    "## Boilerplate Import"
   ]
  },
  {
   "cell_type": "code",
   "execution_count": 1,
   "metadata": {},
   "outputs": [
    {
     "name": "stdout",
     "output_type": "stream",
     "text": [
      "GPU Available:  True\n"
     ]
    }
   ],
   "source": [
    "import tensorflow as tf\n",
    "print(\"GPU Available: \", tf.test.is_gpu_available())"
   ]
  },
  {
   "cell_type": "code",
   "execution_count": 2,
   "metadata": {},
   "outputs": [],
   "source": [
    "tf.keras.backend.clear_session()\n",
    "# tf.keras.backend.set_floatx('float16')"
   ]
  },
  {
   "cell_type": "code",
   "execution_count": 3,
   "metadata": {},
   "outputs": [],
   "source": [
    "import os, sys\n",
    "root_dir, _ = os.path.split(os.getcwd())\n",
    "script_dir = os.path.join(root_dir, 'scripts')\n",
    "sys.path.append(script_dir)\n",
    "from datetime import datetime"
   ]
  },
  {
   "cell_type": "code",
   "execution_count": 4,
   "metadata": {},
   "outputs": [],
   "source": [
    "from hparams import hparams\n",
    "from waveglow_model import WaveGlow\n",
    "import training_utils as utils"
   ]
  },
  {
   "cell_type": "markdown",
   "metadata": {},
   "source": [
    "## Tensorboard logs setup"
   ]
  },
  {
   "cell_type": "code",
   "execution_count": 5,
   "metadata": {},
   "outputs": [],
   "source": [
    "log_dir = os.path.join(hparams['log_dir'])\n",
    "file_writer = tf.summary.create_file_writer(log_dir)\n",
    "file_writer.set_as_default()"
   ]
  },
  {
   "cell_type": "markdown",
   "metadata": {},
   "source": [
    "## Load Validation and Training Dataset"
   ]
  },
  {
   "cell_type": "code",
   "execution_count": 6,
   "metadata": {},
   "outputs": [],
   "source": [
    "validation_dataset = utils.load_single_file_tfrecords(\n",
    "  record_file=os.path.join(hparams['tfrecords_dir'], hparams['eval_file']))\n",
    "validation_dataset = validation_dataset.batch(\n",
    "  hparams['train_batch_size'])"
   ]
  },
  {
   "cell_type": "code",
   "execution_count": 7,
   "metadata": {},
   "outputs": [],
   "source": [
    "training_dataset = utils.load_training_files_tfrecords(\n",
    "  record_pattern=os.path.join(hparams['tfrecords_dir'], hparams['train_files'] + '*'))"
   ]
  },
  {
   "cell_type": "markdown",
   "metadata": {},
   "source": [
    "## Instantiate model and optimizer"
   ]
  },
  {
   "cell_type": "code",
   "execution_count": 8,
   "metadata": {},
   "outputs": [],
   "source": [
    "myWaveGlow = WaveGlow(hparams=hparams, name='myWaveGlow')\n",
    "\n",
    "optimizer = utils.get_optimizer(hparams=hparams)"
   ]
  },
  {
   "cell_type": "markdown",
   "metadata": {},
   "source": [
    "## Model Checkpoints : Initialise or Restore"
   ]
  },
  {
   "cell_type": "code",
   "execution_count": 9,
   "metadata": {},
   "outputs": [],
   "source": [
    "checkpoint = tf.train.Checkpoint(step=tf.Variable(0), \n",
    "                                 optimizer=optimizer, \n",
    "                                 net=myWaveGlow)\n",
    "\n",
    "manager_checkpoint = tf.train.CheckpointManager(\n",
    "  checkpoint, \n",
    "  directory=hparams['checkpoint_dir'],\n",
    "  max_to_keep=hparams['max_to_keep'])\n",
    "\n",
    "checkpoint.restore(manager_checkpoint.latest_checkpoint)\n",
    "\n",
    "if manager_checkpoint.latest_checkpoint:\n",
    "  tf.summary.experimental.set_step(tf.cast(checkpoint.step, tf.int64))\n",
    "  tf.summary.text(name=\"checkpoint_restore\",\n",
    "                  data=\"Restored from {}\".format(manager_checkpoint.latest_checkpoint))\n",
    "else:\n",
    "  tf.summary.experimental.set_step(0)\n",
    "  utils.eval_step(eval_dataset=validation_dataset,\n",
    "                  waveGlow=myWaveGlow, hparams=hparams,\n",
    "                  step=0)"
   ]
  },
  {
   "cell_type": "markdown",
   "metadata": {},
   "source": [
    "## Training step autograph"
   ]
  },
  {
   "cell_type": "code",
   "execution_count": 10,
   "metadata": {},
   "outputs": [],
   "source": [
    "@tf.function\n",
    "def train_step(step, x_train, waveGlow, hparams, optimizer):\n",
    "  tf.summary.experimental.set_step(step=step)\n",
    "  with tf.GradientTape() as tape:\n",
    "    outputs = waveGlow(x_train, training=True)\n",
    "    total_loss = waveGlow.total_loss(outputs=outputs)\n",
    "\n",
    "  grads = tape.gradient(total_loss, \n",
    "                        waveGlow.trainable_weights)\n",
    "  optimizer.apply_gradients(zip(grads, \n",
    "                                waveGlow.trainable_weights))\n",
    "  \n",
    "@tf.function\n",
    "def train_step_minimize(step, x_train, waveGlow, hparams, optimizer):\n",
    "  tf.summary.experimental.set_step(step=step)\n",
    "  lambda loss: waveGlow.total_loss(outputs=waveGlow(x_train, training=True))\n",
    "  optimizer.minimize(loss, waveGlow.trainable_weights)"
   ]
  },
  {
   "cell_type": "code",
   "execution_count": 11,
   "metadata": {},
   "outputs": [],
   "source": [
    "def custom_training(waveGlow, hparams, optimizer, \n",
    "                    checkpoint, manager_checkpoint):\n",
    "  step = tf.cast(checkpoint.step, tf.int64)\n",
    "  \n",
    "  for epoch in tf.range(hparams['epochs']):\n",
    "    tf.summary.text(name='epoch',\n",
    "                    data='Start epoch {}'.format(epoch.numpy()) +\\\n",
    "                    'at ' + datetime.now().strftime(\"%Y%m%d-%H%M%S\"),\n",
    "                    step=step)\n",
    "    \n",
    "    for step, x_train in training_dataset.enumerate(start=step):\n",
    "      train_step(step=step,\n",
    "                 x_train=x_train,\n",
    "                 waveGlow=waveGlow,\n",
    "                 hparams=hparams,\n",
    "                 optimizer=optimizer)\n",
    "      \n",
    "      if tf.equal(step % hparams['save_model_every'], 0):\n",
    "        save_path = manager_checkpoint.save()\n",
    "        tf.summary.text(name='save_checkpoint',\n",
    "                        data=\"Saved checkpoint in\" + save_path,\n",
    "                        step=step)\n",
    "        \n",
    "      if tf.equal(step % hparams['save_audio_every'], 0):\n",
    "        utils.eval_step(eval_dataset=validation_dataset,\n",
    "                        waveGlow=waveGlow, hparams=hparams,\n",
    "                        step=step)\n",
    "    \n",
    "      checkpoint.step.assign_add(1)"
   ]
  },
  {
   "cell_type": "code",
   "execution_count": 12,
   "metadata": {},
   "outputs": [],
   "source": [
    "for x_train in training_dataset.take(1):\n",
    "  test = myWaveGlow(x_train, training=True)"
   ]
  },
  {
   "cell_type": "code",
   "execution_count": 13,
   "metadata": {},
   "outputs": [],
   "source": [
    "blue = myWaveGlow.weightNormInv1x1ConvLayers[0]"
   ]
  },
  {
   "cell_type": "code",
   "execution_count": 14,
   "metadata": {},
   "outputs": [
    {
     "data": {
      "text/plain": [
       "<tf.Tensor: id=24670, shape=(), dtype=float32, numpy=-0.3435489>"
      ]
     },
     "execution_count": 14,
     "metadata": {},
     "output_type": "execute_result"
    }
   ],
   "source": [
    "tf.math.accumulate_n([layer.losses[0] for layer in myWaveGlow.weightNormInv1x1ConvLayers])"
   ]
  },
  {
   "cell_type": "code",
   "execution_count": 15,
   "metadata": {},
   "outputs": [
    {
     "data": {
      "text/plain": [
       "[<tf.Tensor: id=2235, shape=(), dtype=float32, numpy=-56561.758>,\n",
       " <tf.Tensor: id=4235, shape=(), dtype=float32, numpy=-30653.273>,\n",
       " <tf.Tensor: id=6235, shape=(), dtype=float32, numpy=-30972.688>,\n",
       " <tf.Tensor: id=8235, shape=(), dtype=float32, numpy=-12121.732>,\n",
       " <tf.Tensor: id=10249, shape=(), dtype=float32, numpy=-6466.649>,\n",
       " <tf.Tensor: id=12249, shape=(), dtype=float32, numpy=-6408.995>,\n",
       " <tf.Tensor: id=14249, shape=(), dtype=float32, numpy=-1284.3281>,\n",
       " <tf.Tensor: id=16249, shape=(), dtype=float32, numpy=-758.29236>,\n",
       " <tf.Tensor: id=18263, shape=(), dtype=float32, numpy=34.034256>,\n",
       " <tf.Tensor: id=20263, shape=(), dtype=float32, numpy=-617.78656>,\n",
       " <tf.Tensor: id=22263, shape=(), dtype=float32, numpy=-406.3681>,\n",
       " <tf.Tensor: id=24263, shape=(), dtype=float32, numpy=-501.12518>,\n",
       " <tf.Tensor: id=280, shape=(), dtype=float32, numpy=-0.06007147>,\n",
       " <tf.Tensor: id=2280, shape=(), dtype=float32, numpy=-0.047855735>,\n",
       " <tf.Tensor: id=4280, shape=(), dtype=float32, numpy=-0.040296897>,\n",
       " <tf.Tensor: id=6280, shape=(), dtype=float32, numpy=-0.049335957>,\n",
       " <tf.Tensor: id=8294, shape=(), dtype=float32, numpy=-0.030986488>,\n",
       " <tf.Tensor: id=10294, shape=(), dtype=float32, numpy=-0.02325946>,\n",
       " <tf.Tensor: id=12294, shape=(), dtype=float32, numpy=-0.020500004>,\n",
       " <tf.Tensor: id=14294, shape=(), dtype=float32, numpy=-0.028656662>,\n",
       " <tf.Tensor: id=16308, shape=(), dtype=float32, numpy=-0.0108386725>,\n",
       " <tf.Tensor: id=18308, shape=(), dtype=float32, numpy=-0.0111365765>,\n",
       " <tf.Tensor: id=20308, shape=(), dtype=float32, numpy=-0.009241879>,\n",
       " <tf.Tensor: id=22308, shape=(), dtype=float32, numpy=-0.011369079>]"
      ]
     },
     "execution_count": 15,
     "metadata": {},
     "output_type": "execute_result"
    }
   ],
   "source": [
    "myWaveGlow.losses"
   ]
  },
  {
   "cell_type": "code",
   "execution_count": 16,
   "metadata": {},
   "outputs": [],
   "source": [
    "# custom_training(waveGlow=myWaveGlow, \n",
    "#                 hparams=hparams, \n",
    "#                 optimizer=optimizer,\n",
    "#                 checkpoint=checkpoint,\n",
    "#                 manager_checkpoint=manager_checkpoint)"
   ]
  }
 ],
 "metadata": {
  "kernelspec": {
   "display_name": "Python 3",
   "language": "python",
   "name": "python3"
  },
  "language_info": {
   "codemirror_mode": {
    "name": "ipython",
    "version": 3
   },
   "file_extension": ".py",
   "mimetype": "text/x-python",
   "name": "python",
   "nbconvert_exporter": "python",
   "pygments_lexer": "ipython3",
   "version": "3.5.3"
  }
 },
 "nbformat": 4,
 "nbformat_minor": 4
}
