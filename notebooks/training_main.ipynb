{
 "cells": [
  {
   "cell_type": "markdown",
   "metadata": {},
   "source": [
    "# Train WaveGlow Model with custom training step"
   ]
  },
  {
   "cell_type": "markdown",
   "metadata": {},
   "source": [
    "## Boilerplate Import"
   ]
  },
  {
   "cell_type": "code",
   "execution_count": 1,
   "metadata": {},
   "outputs": [
    {
     "name": "stdout",
     "output_type": "stream",
     "text": [
      "GPU Available:  True\n"
     ]
    }
   ],
   "source": [
    "import tensorflow as tf\n",
    "print(\"GPU Available: \", tf.test.is_gpu_available())"
   ]
  },
  {
   "cell_type": "code",
   "execution_count": 2,
   "metadata": {},
   "outputs": [],
   "source": [
    "tf.keras.backend.clear_session()\n",
    "# tf.keras.backend.set_floatx('float16')"
   ]
  },
  {
   "cell_type": "code",
   "execution_count": 3,
   "metadata": {},
   "outputs": [],
   "source": [
    "import os, sys\n",
    "root_dir, _ = os.path.split(os.getcwd())\n",
    "script_dir = os.path.join(root_dir, 'scripts')\n",
    "sys.path.append(script_dir)\n",
    "from datetime import datetime"
   ]
  },
  {
   "cell_type": "code",
   "execution_count": 4,
   "metadata": {},
   "outputs": [],
   "source": [
    "from hparams import hparams\n",
    "from waveglow_model import WaveGlow\n",
    "import training_utils as utils"
   ]
  },
  {
   "cell_type": "markdown",
   "metadata": {},
   "source": [
    "## Tensorboard logs setup"
   ]
  },
  {
   "cell_type": "code",
   "execution_count": 5,
   "metadata": {},
   "outputs": [],
   "source": [
    "log_dir = os.path.join(hparams['log_dir'])\n",
    "file_writer = tf.summary.create_file_writer(log_dir)\n",
    "file_writer.set_as_default()"
   ]
  },
  {
   "cell_type": "markdown",
   "metadata": {},
   "source": [
    "## Load Validation and Training Dataset"
   ]
  },
  {
   "cell_type": "code",
   "execution_count": 6,
   "metadata": {},
   "outputs": [],
   "source": [
    "validation_dataset = utils.load_single_file_tfrecords(\n",
    "  record_file=os.path.join(hparams['tfrecords_dir'], hparams['eval_file']))\n",
    "validation_dataset = validation_dataset.batch(\n",
    "  hparams['train_batch_size'])"
   ]
  },
  {
   "cell_type": "code",
   "execution_count": 7,
   "metadata": {},
   "outputs": [],
   "source": [
    "training_dataset = utils.load_training_files_tfrecords(\n",
    "  record_pattern=os.path.join(hparams['tfrecords_dir'], hparams['train_files'] + '*'))"
   ]
  },
  {
   "cell_type": "markdown",
   "metadata": {},
   "source": [
    "## Instantiate model and optimizer"
   ]
  },
  {
   "cell_type": "code",
   "execution_count": 8,
   "metadata": {},
   "outputs": [],
   "source": [
    "myWaveGlow = WaveGlow(hparams=hparams, name='myWaveGlow')\n",
    "\n",
    "optimizer = utils.get_optimizer(hparams=hparams)"
   ]
  },
  {
   "cell_type": "markdown",
   "metadata": {},
   "source": [
    "## Model Checkpoints : Initialise or Restore"
   ]
  },
  {
   "cell_type": "code",
   "execution_count": 9,
   "metadata": {},
   "outputs": [],
   "source": [
    "checkpoint = tf.train.Checkpoint(step=tf.Variable(0), \n",
    "                                 optimizer=optimizer, \n",
    "                                 net=myWaveGlow)\n",
    "\n",
    "manager_checkpoint = tf.train.CheckpointManager(\n",
    "  checkpoint, \n",
    "  directory=hparams['checkpoint_dir'],\n",
    "  max_to_keep=hparams['max_to_keep'])\n",
    "\n",
    "checkpoint.restore(manager_checkpoint.latest_checkpoint)\n",
    "\n",
    "if manager_checkpoint.latest_checkpoint:\n",
    "  tf.summary.experimental.set_step(tf.cast(checkpoint.step, tf.int64))\n",
    "  tf.summary.text(name=\"checkpoint_restore\",\n",
    "                  data=\"Restored from {}\".format(manager_checkpoint.latest_checkpoint))\n",
    "else:\n",
    "  tf.summary.experimental.set_step(0)\n",
    "  utils.eval_step(eval_dataset=validation_dataset,\n",
    "                  waveGlow=myWaveGlow, hparams=hparams,\n",
    "                  step=0)"
   ]
  },
  {
   "cell_type": "markdown",
   "metadata": {},
   "source": [
    "## Training step autograph"
   ]
  },
  {
   "cell_type": "code",
   "execution_count": 10,
   "metadata": {},
   "outputs": [],
   "source": [
    "@tf.function\n",
    "def train_step(step, x_train, waveGlow, hparams, optimizer):\n",
    "  tf.summary.experimental.set_step(step=step)\n",
    "  with tf.GradientTape() as tape:\n",
    "    outputs = waveGlow(x_train, training=True)\n",
    "    total_loss = waveGlow.total_loss(outputs=outputs)\n",
    "\n",
    "  grads = tape.gradient(total_loss, \n",
    "                        myWaveGlow.trainable_weights)\n",
    "  optimizer.apply_gradients(zip(grads, \n",
    "                                myWaveGlow.trainable_weights))"
   ]
  },
  {
   "cell_type": "code",
   "execution_count": 11,
   "metadata": {},
   "outputs": [],
   "source": [
    "def custom_training(waveGlow, hparams, optimizer, \n",
    "                    checkpoint, manager_checkpoint):\n",
    "  step = tf.cast(checkpoint.step, tf.int64)\n",
    "  \n",
    "  for epoch in tf.range(hparams['epochs']):\n",
    "    tf.summary.text(name='epoch',\n",
    "                    data='Start epoch {}'.format(epoch.numpy()) +\\\n",
    "                    'at ' + datetime.now().strftime(\"%Y%m%d-%H%M%S\"),\n",
    "                    step=step)\n",
    "    \n",
    "    for step, x_train in training_dataset.enumerate(start=step):\n",
    "      train_step(step=step,\n",
    "                 x_train=x_train,\n",
    "                 waveGlow=waveGlow,\n",
    "                 hparams=hparams,\n",
    "                 optimizer=optimizer)\n",
    "      \n",
    "      if tf.equal(step % hparams['save_model_every'], 0):\n",
    "        save_path = manager_checkpoint.save()\n",
    "        tf.summary.text(name='save_checkpoint',\n",
    "                        data=\"Saved checkpoint in\" + save_path,\n",
    "                        step=step)\n",
    "        \n",
    "      if tf.equal(step % hparams['save_audio_every'], 0):\n",
    "        utils.eval_step(eval_dataset=validation_dataset,\n",
    "                        waveGlow=waveGlow, hparams=hparams,\n",
    "                        step=step)\n",
    "    \n",
    "      checkpoint.step.assign_add(1)"
   ]
  },
  {
   "cell_type": "code",
   "execution_count": null,
   "metadata": {},
   "outputs": [
    {
     "name": "stderr",
     "output_type": "stream",
     "text": [
      "WARNING: Logging before flag parsing goes to stderr.\n",
      "W0903 12:20:51.365802 140388133680896 deprecation.py:323] From /usr/local/lib/python3.5/dist-packages/tensorflow/python/ops/math_grad.py:1220: add_dispatch_support.<locals>.wrapper (from tensorflow.python.ops.array_ops) is deprecated and will be removed in a future version.\n",
      "Instructions for updating:\n",
      "Use tf.where in 2.0, which has the same broadcast rule as np.where\n"
     ]
    }
   ],
   "source": [
    "custom_training(waveGlow=myWaveGlow, \n",
    "                hparams=hparams, \n",
    "                optimizer=optimizer,\n",
    "                checkpoint=checkpoint,\n",
    "                manager_checkpoint=manager_checkpoint)"
   ]
  },
  {
   "cell_type": "code",
   "execution_count": null,
   "metadata": {},
   "outputs": [],
   "source": []
  }
 ],
 "metadata": {
  "kernelspec": {
   "display_name": "Python 3",
   "language": "python",
   "name": "python3"
  },
  "language_info": {
   "codemirror_mode": {
    "name": "ipython",
    "version": 3
   },
   "file_extension": ".py",
   "mimetype": "text/x-python",
   "name": "python",
   "nbconvert_exporter": "python",
   "pygments_lexer": "ipython3",
   "version": "3.5.3"
  }
 },
 "nbformat": 4,
 "nbformat_minor": 4
}
